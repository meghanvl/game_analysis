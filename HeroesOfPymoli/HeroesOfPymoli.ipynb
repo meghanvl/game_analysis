Note
Instructions have been included for each segment. You do not have to follow them exactly, but they are included to help you think through the steps.
# Dependencies and Setup
import pandas as pd

# File to Load (Remember to Change These)
file_to_load = "Resources/purchase_data.csv"

# Read Purchasing File and store into Pandas data frame
purchase_data = pd.read_csv(file_to_load)
purchase_data.head()
Purchase ID	SN	Age	Gender	Item ID	Item Name	Price
0	0	Lisim78	20	Male	108	Extraction, Quickblade Of Trembling Hands	3.53
1	1	Lisovynya38	40	Male	143	Frenzied Scimitar	1.56
2	2	Ithergue48	24	Male	92	Final Critic	4.88
3	3	Chamassasya86	24	Male	100	Blindscythe	3.27
4	4	Iskosia90	23	Male	131	Fury	1.44
Player Count
Display the total number of players
total_players = len(purchase_data["SN"].value_counts())
total_players
576
Purchasing Analysis (Total)
Run basic calculations to obtain number of unique items, average price, etc.
Create a summary data frame to hold the results
Optional: give the displayed data cleaner formatting
Display the summary data frame
#number of unique items
unique_items = len(purchase_data["Item Name"].unique())

#average price of items
average_price = round(purchase_data["Price"].mean(),2)

#total number of purchases
purchase_total = purchase_data["Item Name"].count()

#total revenue
price_total = purchase_data["Price"].sum()

#new dataframe
data_summary = pd.DataFrame({"Number of Unique Items": [unique_items], "Average Price": average_price, 
                             "Number of Purchases": purchase_total, "Total Revenue": price_total})

#formatting to add $ and 2 decimal places to Average Price and Total Revenue
data_summary = data_summary.style.format({"Average Price": "${:.2f}", "Total Revenue": "${:,.2f}"})
data_summary
Number of Unique Items	Average Price	Number of Purchases	Total Revenue
0	179	$3.05	780	$2,379.77
Gender Demographics
Percentage and Count of Male Players
Percentage and Count of Female Players
Percentage and Count of Other / Non-Disclosed
#group data by gender
gender_data = purchase_data.groupby("Gender")

#find only the unique count of males and females
gender_totals = gender_data["SN"].nunique()

#find the percent of males of females
gender_percent = gender_totals/total_players * 100

#create a summary with columns
gender_summary = pd.DataFrame({"Total Count": gender_totals, "Percentage of Players": gender_percent})

#format the data to display 2 decimal places and %
gender_summary = gender_summary.style.format({"Percentage of Players": "{:.2f}%"})
gender_summary.index.name = None
gender_summary
Total Count	Percentage of Players
Female	81	14.06%
Male	484	84.03%
Other / Non-Disclosed	11	1.91%
Purchasing Analysis (Gender)
Run basic calculations to obtain purchase count, avg. purchase price, avg. purchase total per person etc. by gender
Create a summary data frame to hold the results
Optional: give the displayed data cleaner formatting
Display the summary data frame
#group by gender
purchase_total = purchase_data.groupby("Gender")

#find total count of purchases for males and females
purchase_count = purchase_total.count()["Purchase ID"]

#average price of purchases for males and females
average_price = gender_data["Price"].mean()

#total number of purchases for males and females
purchase_per_person = gender_data["Price"].sum()

#average purchase per person by gender
average_purchase = round(purchase_per_person/gender_totals,2)

#create new dataframe to display variables
purchase_analysis = pd.DataFrame({"Purchase Count": purchase_count, "Average Purchase Price": average_price, 
                                  "Total Purchase Value": purchase_per_person, "Avg Total Purchase per Person": average_purchase})
purchase_analysis = purchase_analysis.style.format({"Average Purchase Price": "${:.2f}", "Total Purchase Value": "${:,.2f}", 
                                                   "Avg Total Purchase per Person": "${:.2f}"})
purchase_analysis
Purchase Count	Average Purchase Price	Total Purchase Value	Avg Total Purchase per Person
Gender				
Female	113	$3.20	$361.94	$4.47
Male	652	$3.02	$1,967.64	$4.07
Other / Non-Disclosed	15	$3.35	$50.19	$4.56
Age Demographics
Establish bins for ages
Categorize the existing players using the age bins. Hint: use pd.cut()
Calculate the numbers and percentages by age group
Create a summary data frame to hold the results
Optional: round the percentage column to two decimal points
Display Age Demographics Table
#set bins with names of bins
bins = [0, 9.90, 14.90, 19.90, 24.90, 29.90, 34.90, 39.90, 45.90]
names = ["<10", "10-14", "15-19", "20-24", "25-29", "30-34", "35-39", "40+"]
purchase_data["Age By Group"] = pd.cut(purchase_data["Age"], bins, labels=names, include_lowest=True)

#group the data by age
age_group = purchase_data.groupby("Age By Group")

#filter for only unique values for total count
age_totals = age_group["SN"].nunique()

#find the percent of total players by age
player_percent = age_totals/total_players * 100

#create new dataframe to view values
age_analysis = pd.DataFrame({"Total Count": age_totals, "Percentage of Players": player_percent})

#remove the Age By Gropu index name
age_analysis.index.name = None

#format percent of players to display to decimal places and %
age_analysis = age_analysis.style.format({"Percentage of Players": "{:.2f}%"})
age_analysis
Total Count	Percentage of Players
<10	17	2.95%
10-14	22	3.82%
15-19	107	18.58%
20-24	258	44.79%
25-29	77	13.37%
30-34	52	9.03%
35-39	31	5.38%
40+	12	2.08%
Purchasing Analysis (Age)
Bin the purchase_data data frame by age
Run basic calculations to obtain purchase count, avg. purchase price, avg. purchase total per person etc. in the table below
Create a summary data frame to hold the results
Optional: give the displayed data cleaner formatting
Display the summary data frame
#set bins with names of bins
bins = [0, 9.90, 14.90, 19.90, 24.90, 29.90, 34.90, 39.90, 45.90]
names = ["<10", "10-14", "15-19", "20-24", "25-29", "30-34", "35-39", "40+"]
purchase_data["Age By Group"] = pd.cut(purchase_data["Age"], bins, labels=names, include_lowest=True)

#group the data by age
age_group = purchase_data.groupby("Age By Group")

#find the total purchase count for the group
purchase_age_count = age_group["Age By Group"].count()

#find the average for purchase price by age
average_age_purchase_price = age_group["Price"].mean()

#find the total price per person by age
total_per_person = age_group["Price"].sum()

#find the average total per person
average_total_per_person = total_per_person/age_totals

#create dataframe to display the data
age_summary = pd.DataFrame({"Purchase Count": purchase_age_count, "Average Purchase Price": average_age_purchase_price,
                            "Total Purchase Value": total_per_person, "Avg Total Purchase Per Person": average_total_per_person})

#apply formats
age_summary = age_summary.style.format({"Average Purchase Price": "${:.2f}", "Total Purchase Value": "${:,.2f}", 
                                        "Avg Total Purchase Per Person": "${:.2f}"})

#set the index with the column Age Ranges
age_summary.index.name = "Age Ranges"
age_summary
Purchase Count	Average Purchase Price	Total Purchase Value	Avg Total Purchase Per Person
Age Ranges				
<10	23	$3.35	$77.13	$4.54
10-14	28	$2.96	$82.78	$3.76
15-19	136	$3.04	$412.89	$3.86
20-24	365	$3.05	$1,114.06	$4.32
25-29	101	$2.90	$293.00	$3.81
30-34	73	$2.93	$214.00	$4.12
35-39	41	$3.60	$147.67	$4.76
40+	13	$2.94	$38.24	$3.19
Top Spenders
Run basic calculations to obtain the results in the table below
Create a summary data frame to hold the results
Sort the total purchase value column in descending order
Optional: give the displayed data cleaner formatting
Display a preview of the summary data frame
#group the data by the player
players_group = purchase_data.groupby("SN")

#count the total purchases of the players
purchase_count = players_group.count()["Purchase ID"]

#find the average purchase price for the players
average_purchase = players_group.mean()["Price"]

#find the total purchase for each player
total_purchase = players_group.sum()["Price"]

#create dataframe to display the data
spender_summary = pd.DataFrame({"Purchase Count": purchase_count, "Average Purchase Price": average_purchase, 
                                "Total Purchase Value": total_purchase})

#sort the dataframe by Total Purchase Value, descending
spender_summary = spender_summary.sort_values("Total Purchase Value", ascending=False).head()

#format Average Purchase Price and Total Purchase Value to display $ and 2 decimal places
spender_summary = spender_summary.style.format({"Average Purchase Price": "${:.2f}", "Total Purchase Value": "${:.2f}"})
spender_summary
Purchase Count	Average Purchase Price	Total Purchase Value
SN			
Lisosia93	5	$3.79	$18.96
Idastidru52	4	$3.86	$15.45
Chamjask73	3	$4.61	$13.83
Iral74	4	$3.40	$13.62
Iskadarya95	3	$4.37	$13.10
Most Popular Items
Retrieve the Item ID, Item Name, and Item Price columns
Group by Item ID and Item Name. Perform calculations to obtain purchase count, average item price, and total purchase value
Create a summary data frame to hold the results
Sort the purchase count column in descending order
Optional: give the displayed data cleaner formatting
Display a preview of the summary data frame
#group data by Item ID and Item Name
grouped_items = purchase_data.groupby(["Item ID", "Item Name"])

#find the purchase count by columns grouped
purchase_count = grouped_items.count()["Purchase ID"]

#find the average value for purchases
average_purchase = grouped_items.mean()["Price"]

#find the total purchase value
total_purchase = grouped_items.sum()["Price"]

#create new dataframe and sort by Purchase count, descending, and provide formats
popular_items = pd.DataFrame({"Purchase Count": purchase_count, "Item Price": average_purchase, "Total Purchase Value": total_purchase})
popular_items = popular_items.sort_values("Purchase Count", ascending=False).head()
popular_items = popular_items.style.format({"Item Price": "${:.2f}", "Total Purchase Value": "${:.2f}"})
popular_items
Purchase Count	Item Price	Total Purchase Value
Item ID	Item Name			
92	Final Critic	13	$4.61	$59.99
178	Oathbreaker, Last Hope of the Breaking Storm	12	$4.23	$50.76
145	Fiery Glass Crusader	9	$4.58	$41.22
132	Persuasion	9	$3.22	$28.99
108	Extraction, Quickblade Of Trembling Hands	9	$3.53	$31.77
Most Profitable Items
Sort the above table by total purchase value in descending order
Optional: give the displayed data cleaner formatting
Display a preview of the data frame
#group data by Item ID and Item Name
grouped_items = purchase_data.groupby(["Item ID", "Item Name"])

#find the purchase count by columns grouped
purchase_count = grouped_items.count()["Purchase ID"]

#find the average value for purchases
average_purchase = grouped_items.mean()["Price"]

#find the total purchase value
total_purchase = grouped_items.sum()["Price"]

#create new dataframe and sort by Total Purchase Value, descending, and provide formats
most_profitable = pd.DataFrame({"Purchase Count": purchase_count, "Item Price": average_purchase, "Total Purchase Value": total_purchase})
most_profitable = most_profitable.sort_values("Total Purchase Value", ascending=False).head()
most_profitable = most_profitable.style.format({"Item Price": "${:.2f}", "Total Purchase Value": "${:.2f}"})
most_profitable
Purchase Count	Item Price	Total Purchase Value
Item ID	Item Name			
92	Final Critic	13	$4.61	$59.99
178	Oathbreaker, Last Hope of the Breaking Storm	12	$4.23	$50.76
82	Nirvana	9	$4.90	$44.10
145	Fiery Glass Crusader	9	$4.58	$41.22
103	Singed Scalpel	8	$4.35	$34.80
 
